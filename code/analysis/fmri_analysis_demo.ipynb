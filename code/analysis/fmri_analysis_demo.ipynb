{
  "nbformat": 4,
  "nbformat_minor": 0,
  "metadata": {
    "colab": {
      "provenance": []
    },
    "kernelspec": {
      "name": "python3",
      "display_name": "Python 3"
    },
    "language_info": {
      "name": "python"
    }
  },
  "cells": [
    {
      "cell_type": "markdown",
      "source": [
        "In this notebook, we demonstrate how the combined-RPE model can find a positive correlation between brain activity and model-free and model-based reward prediction errors even when no correlation exists.\n",
        "\n",
        "First, we import some libraries to help us generate the data and perform the analysis. We also set a seed for the random number generator for reproducibility. "
      ],
      "metadata": {
        "id": "43w2pVGJwHiD"
      }
    },
    {
      "cell_type": "code",
      "source": [
        "import numpy as np\n",
        "import pandas as pd\n",
        "import statsmodels.api as sm\n",
        "from scipy import stats\n",
        "\n",
        "np.random.seed(47824)\n",
        "\n",
        "# Number of data points\n",
        "N = 10_000"
      ],
      "metadata": {
        "id": "q_Sm6Ariwi05"
      },
      "execution_count": null,
      "outputs": []
    },
    {
      "cell_type": "markdown",
      "source": [
        "We generate some random data to be the model-based reward prediction error (RPE). The chosen mean and scale are similar to those of our empirical data."
      ],
      "metadata": {
        "id": "EcT0cvAkwpkp"
      }
    },
    {
      "cell_type": "code",
      "source": [
        "mb_rpe = np.random.normal(scale=0.5, size=N)"
      ],
      "metadata": {
        "id": "YbEUY3nhxHyR"
      },
      "execution_count": null,
      "outputs": []
    },
    {
      "cell_type": "markdown",
      "source": [
        "Then we generate the model-free RPE by adding random numbers to the model-based RPE, so that the two RPEs are positively correlated. The model-free RPE will have a higher variance than the model-based RPE, which is also similar to what we see in our empirical data."
      ],
      "metadata": {
        "id": "Vwxbty9MxPFh"
      }
    },
    {
      "cell_type": "code",
      "source": [
        "mf_rpe = mb_rpe + np.random.normal(scale=0.5, size=N)"
      ],
      "metadata": {
        "id": "IUinugqPxdhG"
      },
      "execution_count": null,
      "outputs": []
    },
    {
      "cell_type": "markdown",
      "source": [
        "We calculate below the correlation between model-free and the model-based RPEs to check that they are positively correlated.\n",
        "\n",
        "\n",
        "Note: the `pearsonr` function returns below both the value of the correlation and its P-value."
      ],
      "metadata": {
        "id": "Q_6Ap6dnxudx"
      }
    },
    {
      "cell_type": "code",
      "source": [
        "print(stats.pearsonr(mf_rpe, mb_rpe))"
      ],
      "metadata": {
        "colab": {
          "base_uri": "https://localhost:8080/"
        },
        "id": "PAm9HTfjx0W-",
        "outputId": "bd9434c4-e6c0-4809-832b-2c44c0c5ea36"
      },
      "execution_count": null,
      "outputs": [
        {
          "output_type": "stream",
          "name": "stdout",
          "text": [
            "(0.6984022255948152, 0.0)\n"
          ]
        }
      ]
    },
    {
      "cell_type": "markdown",
      "source": [
        "Next we generate the RPEs at feedback."
      ],
      "metadata": {
        "id": "BvbOi4KWynS6"
      }
    },
    {
      "cell_type": "code",
      "source": [
        "fb_rpe = np.random.normal(scale=0.5, size=N)"
      ],
      "metadata": {
        "id": "MhQmUOkRytnT"
      },
      "execution_count": null,
      "outputs": []
    },
    {
      "cell_type": "markdown",
      "source": [
        "Now we generate some random brain activity for the second stage and check that it is uncorrelated with both the model-free and the model-based RPEs. If by chance there is a correlation, then we repeat the procedure with a different random vector because this demonstration is based on the assumption that the two signals are not related."
      ],
      "metadata": {
        "id": "cU9hpehQy1g-"
      }
    },
    {
      "cell_type": "code",
      "source": [
        "pval = 0.\n",
        "while pval < 0.2:\n",
        "  stage2_act = np.random.normal(loc=1., scale=0.5, size=N)\n",
        "  mfcorr = stats.pearsonr(mf_rpe, stage2_act)\n",
        "  mbcorr = stats.pearsonr(mb_rpe, stage2_act)\n",
        "  pval = min(mfcorr[1], mbcorr[1])\n",
        "print(\"Correlation with the MF RPE:\", mfcorr)\n",
        "print(\"Correlation with the MB RPE:\", mbcorr)"
      ],
      "metadata": {
        "colab": {
          "base_uri": "https://localhost:8080/"
        },
        "id": "M4k2J5vlzBN_",
        "outputId": "7dd2a6a7-542d-44fd-c27f-47ef2cec49b7"
      },
      "execution_count": null,
      "outputs": [
        {
          "output_type": "stream",
          "name": "stdout",
          "text": [
            "Correlation with the MF RPE: (0.0063770424440286865, 0.5237139049107337)\n",
            "Correlation with the MB RPE: (0.008034532259768433, 0.4217633628773688)\n"
          ]
        }
      ]
    },
    {
      "cell_type": "markdown",
      "source": [
        "We then generate brain activity for feedback by adding normally distributed random numbers to the feedback RPE so that brain activity and RPEs at feedback are positively correlated."
      ],
      "metadata": {
        "id": "OqVIykdg0Ax5"
      }
    },
    {
      "cell_type": "code",
      "source": [
        "fb_brain_act = fb_rpe + np.random.normal(loc=2, scale=0.5, size=N)\n",
        "print(stats.pearsonr(fb_brain_act, fb_rpe))"
      ],
      "metadata": {
        "colab": {
          "base_uri": "https://localhost:8080/"
        },
        "id": "IZB_RByV0M07",
        "outputId": "90a873fd-98ab-4821-f4fe-9920c743cba5"
      },
      "execution_count": null,
      "outputs": [
        {
          "output_type": "stream",
          "name": "stdout",
          "text": [
            "(0.701671195233547, 0.0)\n"
          ]
        }
      ]
    },
    {
      "cell_type": "markdown",
      "source": [
        "Next we interleave brain activity at the second stage with brain activity at feedback, then we do the same with the model-free and model-based RPE regressors. The even elements of each array refer to the second stage and the odd elements to feedback. In the fMRI data, all regressors were also convolved with the same HRF. However, convolution with the HRF does not change the basic phenomenon we are demonstrating here, because it is a linear operation and in reality only the correlations between the regressors are relevant to the final result. Therefore, we omit the HRF convolution for simplicity."
      ],
      "metadata": {
        "id": "sQbOxMZe0sQn"
      }
    },
    {
      "cell_type": "code",
      "source": [
        "# Function to interleave two vectors\n",
        "def interleave(a, b):\n",
        "  c = np.empty((a.size + b.size,), dtype=a.dtype)\n",
        "  c[0::2] = a\n",
        "  c[1::2] = b\n",
        "  return c\n",
        "\n",
        "brain_act = interleave(stage2_act, fb_brain_act)\n",
        "mf_rpe_comb = interleave(mf_rpe, fb_rpe)\n",
        "mb_rpe_comb = interleave(mb_rpe, fb_rpe)"
      ],
      "metadata": {
        "id": "8hUvN8lG036k"
      },
      "execution_count": null,
      "outputs": []
    },
    {
      "cell_type": "markdown",
      "source": [
        "Then we subtract the model-free RPE from the model-based RPE as was done when the combined-RPE GLM was used in previous papers."
      ],
      "metadata": {
        "id": "EoqvwMdm2EtS"
      }
    },
    {
      "cell_type": "code",
      "source": [
        "mb_rpe_comb -= mf_rpe_comb"
      ],
      "metadata": {
        "id": "RWWX23yM2Ljm"
      },
      "execution_count": null,
      "outputs": []
    },
    {
      "cell_type": "markdown",
      "source": [
        "Notice that the even elements of the model-based and the model-free RPE regressors often become negatively correlated following this subtraction. Whether the obtained correlation is negative, positive, or zero depends on the initial data. It is not necessarily true that the correlation will become negative following this procedure for all pairs of regressors, but the correlation was significantly negative in our empirical data and in over 99% of our stimulations."
      ],
      "metadata": {
        "id": "sAewVgarATSM"
      }
    },
    {
      "cell_type": "code",
      "source": [
        "print(stats.pearsonr(mb_rpe_comb[0::2], mf_rpe_comb[0::2]))"
      ],
      "metadata": {
        "colab": {
          "base_uri": "https://localhost:8080/"
        },
        "id": "sekIotA_ANaB",
        "outputId": "ddd33061-9e17-4c5e-e996-55cb3af56ffb"
      },
      "execution_count": null,
      "outputs": [
        {
          "output_type": "stream",
          "name": "stdout",
          "text": [
            "(-0.7082992992868536, 0.0)\n"
          ]
        }
      ]
    },
    {
      "cell_type": "markdown",
      "source": [
        "We then mean-center and orthogonalize the combined model-free and the model-based RPEs, which eliminates the bivariate correlation between the entire vectors."
      ],
      "metadata": {
        "id": "6MBuBHsl2ReW"
      }
    },
    {
      "cell_type": "code",
      "source": [
        "mf_rpe_comb -= np.mean(mf_rpe_comb)\n",
        "mb_rpe_comb -= np.mean(mb_rpe_comb)\n",
        "\n",
        "# Function to orthogonalize two vectors\n",
        "def orth(u1, u2):\n",
        "  return (u1, u2 - np.dot(u1, u2)/np.dot(u1, u1)*u1)\n",
        "\n",
        "mf_rpe_comb, mb_rpe_comb = orth(mf_rpe_comb, mb_rpe_comb)\n",
        "print(stats.pearsonr(mb_rpe_comb, mf_rpe_comb))"
      ],
      "metadata": {
        "colab": {
          "base_uri": "https://localhost:8080/"
        },
        "id": "T68FA_qX2ebN",
        "outputId": "2b3497a5-3871-4564-dd1a-f6fa6a063b5f"
      },
      "execution_count": null,
      "outputs": [
        {
          "output_type": "stream",
          "name": "stdout",
          "text": [
            "(1.1102230246251565e-16, 0.9999999999961807)\n"
          ]
        }
      ]
    },
    {
      "cell_type": "markdown",
      "source": [
        "However, the even elements of the regressors are often still negatively correlated. The orthogonalization procedure always removes the correlation between the entire vectors, but the even elements of the regressors may still be correlated.\n"
      ],
      "metadata": {
        "id": "RTR9ePJs29ML"
      }
    },
    {
      "cell_type": "code",
      "source": [
        "print(stats.pearsonr(mb_rpe_comb[0::2], mf_rpe_comb[0::2]))"
      ],
      "metadata": {
        "colab": {
          "base_uri": "https://localhost:8080/"
        },
        "id": "fs7xWxcz3F16",
        "outputId": "5133a4f9-f458-4739-9f8e-719754ed9a27"
      },
      "execution_count": null,
      "outputs": [
        {
          "output_type": "stream",
          "name": "stdout",
          "text": [
            "(-0.31243989705270436, 2.5227586044511936e-225)\n"
          ]
        }
      ]
    },
    {
      "cell_type": "markdown",
      "source": [
        "We now create separate intercepts for the second-stage events and the feedback events (\"onset\" regressors)."
      ],
      "metadata": {
        "id": "s0l9MkWQ6Zym"
      }
    },
    {
      "cell_type": "code",
      "source": [
        "stage2_onset = interleave(np.ones(N), np.zeros(N))\n",
        "fb_onset = interleave(np.zeros(N), np.ones(N))"
      ],
      "metadata": {
        "id": "5KD1ozpP6kF4"
      },
      "execution_count": null,
      "outputs": []
    },
    {
      "cell_type": "markdown",
      "source": [
        "We then generate a combined onset regressor and create a predictor data frame for the combined-RPE model, containing the two combined-RPE regressors, the combined onset regressor and the feedback onset regressor. Finally, we fit the model to brain activity using least-squares linear regression."
      ],
      "metadata": {
        "id": "_PfcAXyF7Fb8"
      }
    },
    {
      "cell_type": "code",
      "source": [
        "X = pd.DataFrame({\n",
        "    'combined_onset': (stage2_onset + fb_onset),\n",
        "    'feedback_onset': fb_onset,\n",
        "    'model_free_rpe': mf_rpe_comb,\n",
        "    'model_based_rpe': mb_rpe_comb\n",
        "})\n",
        "model = sm.OLS(brain_act, X)\n",
        "results = model.fit()\n",
        "print(results.summary())"
      ],
      "metadata": {
        "colab": {
          "base_uri": "https://localhost:8080/"
        },
        "id": "HsAjSXws7WgZ",
        "outputId": "93424aba-e987-41bb-831d-454638f8f612"
      },
      "execution_count": null,
      "outputs": [
        {
          "output_type": "stream",
          "name": "stdout",
          "text": [
            "                            OLS Regression Results                            \n",
            "==============================================================================\n",
            "Dep. Variable:                      y   R-squared:                       0.501\n",
            "Model:                            OLS   Adj. R-squared:                  0.501\n",
            "Method:                 Least Squares   F-statistic:                     6705.\n",
            "Date:                Thu, 03 Feb 2022   Prob (F-statistic):               0.00\n",
            "Time:                        12:33:33   Log-Likelihood:                -16609.\n",
            "No. Observations:               20000   AIC:                         3.323e+04\n",
            "Df Residuals:                   19996   BIC:                         3.326e+04\n",
            "Df Model:                           3                                         \n",
            "Covariance Type:            nonrobust                                         \n",
            "===================================================================================\n",
            "                      coef    std err          t      P>|t|      [0.025      0.975]\n",
            "-----------------------------------------------------------------------------------\n",
            "combined_onset      1.0025      0.006    180.555      0.000       0.992       1.013\n",
            "feedback_onset      0.9990      0.008    127.221      0.000       0.984       1.014\n",
            "model_free_rpe      0.3290      0.006     51.027      0.000       0.316       0.342\n",
            "model_based_rpe     0.4898      0.013     36.289      0.000       0.463       0.516\n",
            "==============================================================================\n",
            "Omnibus:                        1.056   Durbin-Watson:                   2.001\n",
            "Prob(Omnibus):                  0.590   Jarque-Bera (JB):                1.079\n",
            "Skew:                           0.013   Prob(JB):                        0.583\n",
            "Kurtosis:                       2.976   Cond. No.                         3.93\n",
            "==============================================================================\n",
            "\n",
            "Warnings:\n",
            "[1] Standard Errors assume that the covariance matrix of the errors is correctly specified.\n"
          ]
        }
      ]
    },
    {
      "cell_type": "markdown",
      "source": [
        "As can be seen from the above results, the coefficientes for the combined model-free and model-based regressors are both positive, despite the fact that brain activity at the second stage is uncorrelated with either RPE.\n",
        "\n",
        "In contrast, when we compute the separated-RPE model we find results that are consistent with the ground truth in our simulated data. Specifically, the coefficients for the model-free and model-based regressors are zero (or at least very small and not significantly different from zero), and only the coefficient for the feedback regressor is significantly positive."
      ],
      "metadata": {
        "id": "_PXG5Wir8HSU"
      }
    },
    {
      "cell_type": "code",
      "source": [
        "# Creating the separate regressors\n",
        "mf_rpe_sep = mf_rpe\n",
        "mb_rpe_sep = mb_rpe - mf_rpe\n",
        "# Mean centering\n",
        "mf_rpe_sep -= np.mean(mf_rpe_sep)\n",
        "mb_rpe_sep -= np.mean(mb_rpe_sep)\n",
        "# Orthogonalization\n",
        "mf_rpe_sep, mb_rpe_sep = orth(mf_rpe_sep, mb_rpe_sep)\n",
        "# Linear regression\n",
        "X = pd.DataFrame({\n",
        "    'stage2_onset': stage2_onset,\n",
        "    'feedback_onset': fb_onset,\n",
        "    'model_free_rpe': interleave(mf_rpe_sep, np.zeros(N)),\n",
        "    'model_based_rpe': interleave(mb_rpe_sep, np.zeros(N)),\n",
        "    'feedback_rpe': interleave(np.zeros(N), fb_rpe),\n",
        "})\n",
        "model = sm.OLS(brain_act, X)\n",
        "results = model.fit()\n",
        "print(results.summary())"
      ],
      "metadata": {
        "colab": {
          "base_uri": "https://localhost:8080/"
        },
        "id": "XxHDEDa4_myR",
        "outputId": "da14cbdb-9c2d-4157-b169-f999362ed8f2"
      },
      "execution_count": null,
      "outputs": [
        {
          "output_type": "stream",
          "name": "stdout",
          "text": [
            "                            OLS Regression Results                            \n",
            "==============================================================================\n",
            "Dep. Variable:                      y   R-squared:                       0.598\n",
            "Model:                            OLS   Adj. R-squared:                  0.598\n",
            "Method:                 Least Squares   F-statistic:                     7440.\n",
            "Date:                Thu, 03 Feb 2022   Prob (F-statistic):               0.00\n",
            "Time:                        12:33:37   Log-Likelihood:                -14454.\n",
            "No. Observations:               20000   AIC:                         2.892e+04\n",
            "Df Residuals:                   19995   BIC:                         2.896e+04\n",
            "Df Model:                           4                                         \n",
            "Covariance Type:            nonrobust                                         \n",
            "===================================================================================\n",
            "                      coef    std err          t      P>|t|      [0.025      0.975]\n",
            "-----------------------------------------------------------------------------------\n",
            "stage2_onset        1.0024      0.005    201.079      0.000       0.993       1.012\n",
            "feedback_onset      2.0009      0.005    401.371      0.000       1.991       2.011\n",
            "model_free_rpe      0.0045      0.007      0.638      0.523      -0.009       0.018\n",
            "model_based_rpe     0.0070      0.014      0.501      0.616      -0.020       0.034\n",
            "feedback_rpe        0.9943      0.010     98.344      0.000       0.974       1.014\n",
            "==============================================================================\n",
            "Omnibus:                        1.627   Durbin-Watson:                   1.992\n",
            "Prob(Omnibus):                  0.443   Jarque-Bera (JB):                1.619\n",
            "Skew:                          -0.003   Prob(JB):                        0.445\n",
            "Kurtosis:                       2.956   Cond. No.                         2.80\n",
            "==============================================================================\n",
            "\n",
            "Warnings:\n",
            "[1] Standard Errors assume that the covariance matrix of the errors is correctly specified.\n"
          ]
        }
      ]
    }
  ]
}